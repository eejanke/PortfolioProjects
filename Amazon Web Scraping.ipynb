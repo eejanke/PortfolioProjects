{
 "cells": [
  {
   "cell_type": "code",
   "execution_count": 11,
   "id": "33f025d0",
   "metadata": {},
   "outputs": [],
   "source": [
    "#Import libraries\n",
    "\n",
    "from bs4 import BeautifulSoup\n",
    "import requests\n",
    "import time\n",
    "import datetime\n",
    "import pandas as pd\n",
    "\n",
    "import smtplib"
   ]
  },
  {
   "cell_type": "code",
   "execution_count": 2,
   "id": "f6bc258b",
   "metadata": {},
   "outputs": [
    {
     "name": "stdout",
     "output_type": "stream",
     "text": [
      "\n",
      "            3dRose Geeky Old School Pixels 8-Bit I Heart I Love Data Two Tone Mug, 1 Count (Pack of 1), Black/White\n",
      "           \n",
      "$12.96\n",
      "4.6 out of 5 stars\n"
     ]
    }
   ],
   "source": [
    "#Connect to webpage and pull data\n",
    "\n",
    "URL = 'https://www.amazon.com/3dRose-118876_4-Geeky-School-Pixels/dp/B013KTBWN6/ref=sr_1_6?crid=DND52UBK9QGR&keywords=data%2Banalyst%2Bcoffee%2Bmug&qid=1673030747&sprefix=data%2Banalyst%2Bcoffee%2Bmug%2Caps%2C960&sr=8-6&th=1'\n",
    "\n",
    "headers = {\"User-Agent\": \"Mozilla/5.0 (Windows NT 10.0; Win64; x64) AppleWebKit/537.36 (KHTML, like Gecko) Chrome/108.0.0.0 Safari/537.36\", \"Accept-Encoding\": \"gzip, deflate, br\", \"Accept\": \"text/html,application/xhtml+xml,application/xml;q=0.9,image/avif,image/webp,image/apng,*/*;q=0.8,application/signed-exchange;v=b3;q=0.9\", \"Upgrade-Insecure-Requests\": \"1\"}\n",
    "\n",
    "page = requests.get(URL,headers=headers)\n",
    "\n",
    "soup1 = BeautifulSoup(page.content, \"html.parser\")\n",
    "\n",
    "soup2 = BeautifulSoup(soup1.prettify(),'html.parser')\n",
    "\n",
    "title = soup2.find(id='productTitle').get_text()\n",
    "\n",
    "price = soup2.find('span', attrs={'class': 'a-offscreen'}).string.strip()\n",
    "\n",
    "rating = soup2.find('span', attrs={'class': 'a-icon-alt'}).string.strip()\n",
    "\n",
    "print(title)\n",
    "print(price)\n",
    "print(rating)\n"
   ]
  },
  {
   "cell_type": "code",
   "execution_count": 3,
   "id": "15e86269",
   "metadata": {
    "scrolled": true
   },
   "outputs": [
    {
     "name": "stdout",
     "output_type": "stream",
     "text": [
      "3dRose Geeky Old School Pixels 8-Bit I Heart I Love Data Two Tone Mug, 1 Count (Pack of 1), Black/White\n",
      "12.96\n",
      "4.6\n"
     ]
    }
   ],
   "source": [
    "#Clean data\n",
    "\n",
    "price = price.strip()[1:]\n",
    "title = title.strip()\n",
    "rating = rating.strip()[:3]\n",
    "\n",
    "print(title)\n",
    "print(price)\n",
    "print(rating)"
   ]
  },
  {
   "cell_type": "code",
   "execution_count": 8,
   "id": "3c90ad99",
   "metadata": {},
   "outputs": [
    {
     "name": "stdout",
     "output_type": "stream",
     "text": [
      "2023-01-06\n"
     ]
    }
   ],
   "source": [
    "import datetime\n",
    "\n",
    "today = datetime.date.today()\n",
    "\n",
    "print(today)"
   ]
  },
  {
   "cell_type": "code",
   "execution_count": 13,
   "id": "92a7d951",
   "metadata": {},
   "outputs": [
    {
     "name": "stdout",
     "output_type": "stream",
     "text": [
      "                                               Title  Price  Rating  \\\n",
      "0  3dRose Geeky Old School Pixels 8-Bit I Heart I...  12.96     4.6   \n",
      "\n",
      "         Date  \n",
      "0  2023-01-06  \n"
     ]
    }
   ],
   "source": [
    "#Create csv and insert data\n",
    "import csv\n",
    "\n",
    "header = ['Title', 'Price', 'Rating', 'Date']\n",
    "data = [title, price, rating, today]\n",
    "\n",
    "#with open('AmazonWSdata.csv', 'w', newline='', encoding='UTF8') as f:\n",
    "    #writer = csv.writer(f)\n",
    "    #writer.writerow(header)\n",
    "    #writer.writerow(data)\n",
    "    \n",
    "df = pd.read_csv(r'C:\\Users\\eejan\\AmazonWSdata.csv')\n",
    "print(df)"
   ]
  },
  {
   "cell_type": "code",
   "execution_count": 14,
   "id": "8706e037",
   "metadata": {},
   "outputs": [],
   "source": [
    "#Append data to csv\n",
    "\n",
    "with open('AmazonWSdata.csv', 'a+', newline='', encoding='UTF8') as f:\n",
    "    writer = csv.writer(f)\n",
    "    writer.writerow(data)"
   ]
  },
  {
   "cell_type": "code",
   "execution_count": 15,
   "id": "7adc5327",
   "metadata": {},
   "outputs": [],
   "source": [
    "#Combine steps into one function\n",
    "\n",
    "def check_price():\n",
    "    URL = 'https://www.amazon.com/3dRose-118876_4-Geeky-School-Pixels/dp/B013KTBWN6/ref=sr_1_6?crid=DND52UBK9QGR&keywords=data%2Banalyst%2Bcoffee%2Bmug&qid=1673030747&sprefix=data%2Banalyst%2Bcoffee%2Bmug%2Caps%2C960&sr=8-6&th=1'\n",
    "    headers = {\"User-Agent\": \"Mozilla/5.0 (Windows NT 10.0; Win64; x64) AppleWebKit/537.36 (KHTML, like Gecko) Chrome/108.0.0.0 Safari/537.36\", \"Accept-Encoding\": \"gzip, deflate, br\", \"Accept\": \"text/html,application/xhtml+xml,application/xml;q=0.9,image/avif,image/webp,image/apng,*/*;q=0.8,application/signed-exchange;v=b3;q=0.9\", \"Upgrade-Insecure-Requests\": \"1\"}\n",
    "    page = requests.get(URL,headers=headers)\n",
    "    soup1 = BeautifulSoup(page.content, \"html.parser\")\n",
    "    soup2 = BeautifulSoup(soup1.prettify(),'html.parser')\n",
    "    title = soup2.find(id='productTitle').get_text()\n",
    "    price = soup2.find('span', attrs={'class': 'a-offscreen'}).string.strip()\n",
    "    rating = soup2.find('span', attrs={'class': 'a-icon-alt'}).string.strip()\n",
    "    \n",
    "    price = price.strip()[1:]\n",
    "    title = title.strip()\n",
    "    rating = rating.strip()[:3]\n",
    "    \n",
    "    import datetime\n",
    "    today = datetime.date.today()\n",
    "    print(today)\n",
    "    \n",
    "    import csv\n",
    "    header = ['Title', 'Price', 'Rating', 'Date']\n",
    "    data = [title, price, rating, today]\n",
    "    \n",
    "    with open('AmazonWSdata.csv', 'a+', newline='', encoding='UTF8') as f:\n",
    "        writer = csv.writer(f)\n",
    "        writer.writerow(data)\n"
   ]
  },
  {
   "cell_type": "code",
   "execution_count": null,
   "id": "e8510f34",
   "metadata": {},
   "outputs": [],
   "source": [
    "#Set price checking timer\n",
    "while(True):\n",
    "    check_price()\n",
    "    time.sleep(86400)"
   ]
  }
 ],
 "metadata": {
  "kernelspec": {
   "display_name": "Python 3 (ipykernel)",
   "language": "python",
   "name": "python3"
  },
  "language_info": {
   "codemirror_mode": {
    "name": "ipython",
    "version": 3
   },
   "file_extension": ".py",
   "mimetype": "text/x-python",
   "name": "python",
   "nbconvert_exporter": "python",
   "pygments_lexer": "ipython3",
   "version": "3.9.13"
  }
 },
 "nbformat": 4,
 "nbformat_minor": 5
}
